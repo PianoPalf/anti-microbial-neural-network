{
 "cells": [
  {
   "cell_type": "markdown",
   "metadata": {},
   "source": [
    "# Deep Neural Network: Anti-Microbial Peptide Prediction"
   ]
  },
  {
   "cell_type": "markdown",
   "metadata": {},
   "source": [
    "## Data Compilation"
   ]
  },
  {
   "cell_type": "code",
   "execution_count": 1,
   "metadata": {},
   "outputs": [],
   "source": [
    "# Import Dependencies.\n",
    "import pandas as pd\n",
    "import numpy as np\n",
    "from Bio import SeqIO"
   ]
  },
  {
   "cell_type": "code",
   "execution_count": 14,
   "metadata": {},
   "outputs": [],
   "source": [
    "# Parse FASTA File into Pandas DataFrame\n",
    "\n",
    "# FUNCTION: reads FASTA file with SeqIO, populates empty Lists and creates DataFrame from Dictionary.\n",
    "def FASTA_to_DF(fasta_file):\n",
    "    sequence_ids = []\n",
    "    sequences = []\n",
    "    \n",
    "    with open(fasta_file, \"r\") as handle:\n",
    "        for record in SeqIO.parse(handle, \"fasta\"):\n",
    "            sequence_ids.append(record.id)\n",
    "            sequences.append(str(record.seq))\n",
    "    \n",
    "    data = {'Sequence_ID': sequence_ids, 'Sequence': sequences}\n",
    "    df = pd.DataFrame(data)\n",
    "    \n",
    "    return df"
   ]
  },
  {
   "cell_type": "code",
   "execution_count": 15,
   "metadata": {},
   "outputs": [],
   "source": [
    "# Generate Kyte-Doolittle Scores for Amino Acid Sequences\n",
    "\n",
    "# Create Kyte-Doolittle (Hydrophobicity) score Dictionary\n",
    "kyte_doolittle_scores = {\n",
    "    'A': 1.8, 'R': -4.5, 'N': -3.5, 'D': -3.5, 'C': 2.5,\n",
    "    'Q': -3.5, 'E': -3.5, 'G': -0.4, 'H': -3.2, 'I': 4.5,\n",
    "    'L': 3.8, 'K': -3.9, 'M': 1.9, 'F': 2.8, 'P': -1.6,\n",
    "    'S': -0.8, 'T': -0.7, 'W': -0.9, 'Y': -1.3, 'V': 4.2\n",
    "}\n",
    "\n",
    "# FUNCTION: Calculate Kyte-Doolittle scores for Amino Acid Sequence\n",
    "def list_hydrophobicities(sequence):\n",
    "    return [kyte_doolittle_scores.get(aa, 0) for aa in sequence]\n",
    "\n",
    "# FUNCTION: Calculate total Kyte-Doolittle score for Amino Acid Sequence\n",
    "def sum_hydrophobicities(sequence):\n",
    "    return sum([kyte_doolittle_scores.get(aa, 0) for aa in sequence])"
   ]
  },
  {
   "cell_type": "code",
   "execution_count": 16,
   "metadata": {},
   "outputs": [],
   "source": [
    "# Create FASTA file variables for Training and Test Data.\n",
    "train_positive = \"../Resources/train_positive_final.fasta\"\n",
    "train_negative = \"../Resources/train_negative_final.fasta\"\n",
    "train_positive_2 = \"../Resources/db90_positiveamp.fasta\"\n",
    "train_negative_2 = \"../Resources/db90_negativeamp.fasta\"\n",
    "test_positive = \"../Resources/test_postive_3528.fasta\"\n",
    "test_negative = \"../Resources/test_negative_3528.fasta\"\n",
    "\n",
    "# Create FASTA file variables for Prediction Data (for Model Validation)\n",
    "validation_positive = \"../Resources/AMPlify_AMP_test_common.fa\"\n",
    "validation_negative = \"../Resources/AMPlify_non_AMP_test_balanced.fa\""
   ]
  },
  {
   "cell_type": "code",
   "execution_count": 17,
   "metadata": {},
   "outputs": [],
   "source": [
    "# Create DataFrames for each FASTA file.\n",
    "train_positive_df = FASTA_to_DF(train_positive)\n",
    "train_negative_df = FASTA_to_DF(train_negative)\n",
    "train_positive_2_df = FASTA_to_DF(train_positive_2)\n",
    "train_negative_2_df = FASTA_to_DF(train_negative_2)\n",
    "test_positive_df = FASTA_to_DF(test_positive)\n",
    "test_negative_df = FASTA_to_DF(test_negative)\n",
    "\n",
    "# Create DataFrames for Validation FASTA files\n",
    "validation_positive_df = FASTA_to_DF(validation_positive)\n",
    "validation_negative_df = FASTA_to_DF(validation_negative)"
   ]
  },
  {
   "cell_type": "code",
   "execution_count": 18,
   "metadata": {},
   "outputs": [],
   "source": [
    "# Create new Column for each DataFrame to assign Anti-Microbial status (0 for False, 1 for True)\n",
    "train_positive_df['Anti_Microbial'] = 1\n",
    "train_negative_df['Anti_Microbial'] = 0\n",
    "train_positive_2_df['Anti_Microbial'] = 1\n",
    "train_negative_2_df['Anti_Microbial'] = 0\n",
    "test_positive_df['Anti_Microbial'] = 1\n",
    "test_negative_df['Anti_Microbial'] = 0\n",
    "validation_positive_df['Anti_Microbial'] = 1\n",
    "validation_negative_df['Anti_Microbial'] = 0"
   ]
  },
  {
   "cell_type": "code",
   "execution_count": 19,
   "metadata": {},
   "outputs": [],
   "source": [
    "# Concatenate Train and Test DataFrames\n",
    "peptides_df = pd.concat([train_positive_df, train_negative_df, train_positive_2_df, train_negative_2_df, test_positive_df, test_negative_df])\n",
    "\n",
    "# Concatenate Validation DataFrames\n",
    "validation_df = pd.concat([validation_positive_df, validation_negative_df])\n",
    "\n",
    "# Create Sequence_Length Column\n",
    "peptides_df['Sequence_Length'] = peptides_df['Sequence'].str.len()\n",
    "validation_df['Sequence_Length'] = validation_df['Sequence'].str.len()\n",
    "\n",
    "\n",
    "# Randomise Index/Rows\n",
    "peptides_df = peptides_df.sample(frac=1).reset_index(drop=True)\n",
    "validation_df = validation_df.sample(frac=1).reset_index(drop=True)"
   ]
  },
  {
   "cell_type": "code",
   "execution_count": 20,
   "metadata": {},
   "outputs": [],
   "source": [
    "# Apply list_hydrophobicities Function to create KD_Scores Column\n",
    "peptides_df['KD_Scores'] = peptides_df['Sequence'].apply(list_hydrophobicities)\n",
    "\n",
    "# Apply sum_hydrophobicities Function to create Total KD_Score Column\n",
    "peptides_df['Total_KD_Score'] = peptides_df['Sequence'].apply(sum_hydrophobicities)\n"
   ]
  },
  {
   "cell_type": "code",
   "execution_count": 21,
   "metadata": {},
   "outputs": [],
   "source": [
    "# Export DataFrames as CSV Files\n",
    "peptides_df.to_csv('../Resources/peptides.csv', index=False, header=True)\n"
   ]
  },
  {
   "cell_type": "code",
   "execution_count": 22,
   "metadata": {},
   "outputs": [],
   "source": [
    "# Export Validation DataFrames as CSV Files\n",
    "validation_df.to_csv('../Resources/validation.csv', index=False, header=True)\n"
   ]
  }
 ],
 "metadata": {
  "kernelspec": {
   "display_name": "BootCamp",
   "language": "python",
   "name": "python3"
  },
  "language_info": {
   "codemirror_mode": {
    "name": "ipython",
    "version": 3
   },
   "file_extension": ".py",
   "mimetype": "text/x-python",
   "name": "python",
   "nbconvert_exporter": "python",
   "pygments_lexer": "ipython3",
   "version": "3.10.12"
  }
 },
 "nbformat": 4,
 "nbformat_minor": 2
}
